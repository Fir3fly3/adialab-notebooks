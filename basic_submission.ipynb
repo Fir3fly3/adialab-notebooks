{
  "cells": [
    {
      "attachments": {},
      "cell_type": "markdown",
      "metadata": {
        "id": "tEd1A1tFBOKs"
      },
      "source": [
        "[![Open In Colab](https://colab.research.google.com/assets/colab-badge.svg)](https://githubtocolab.com/crunchdao/adialab-notebooks/blob/main/quickstarter_notebook.ipynb)"
      ]
    },
    {
      "attachments": {},
      "cell_type": "markdown",
      "metadata": {
        "id": "aWkyd7l6wBse"
      },
      "source": [
        "# ![title](https://cdn.discordapp.com/attachments/976395465341935657/1098640527450189914/adialab1-min_1.jpg)"
      ]
    },
    {
      "attachments": {},
      "cell_type": "markdown",
      "metadata": {
        "id": "QIGffwE2wBsi"
      },
      "source": [
        "# Set up your crunch workspace"
      ]
    },
    {
      "attachments": {},
      "cell_type": "markdown",
      "metadata": {
        "id": "wPwpdl83wBsi"
      },
      "source": [
        "#### STEP 1\n",
        "Run this cell to install the crunch library in your workspace."
      ]
    },
    {
      "cell_type": "code",
      "execution_count": 1,
      "metadata": {
        "colab": {
          "base_uri": "https://localhost:8080/"
        },
        "id": "fctOAv3CwBsi",
        "outputId": "41de4317-bfb4-469d-c7df-b7172d38515b"
      },
      "outputs": [
        {
          "name": "stdout",
          "output_type": "stream",
          "text": [
            "Looking in indexes: https://pypi.org/simple, https://us-python.pkg.dev/colab-wheels/public/simple/\n",
            "Collecting crunch-cli\n",
            "  Downloading crunch_cli-1.2.0-py3-none-any.whl (17 kB)\n",
            "Requirement already satisfied: click in /usr/local/lib/python3.10/dist-packages (from crunch-cli) (8.1.3)\n",
            "Requirement already satisfied: requests in /usr/local/lib/python3.10/dist-packages (from crunch-cli) (2.27.1)\n",
            "Collecting gitignorefile (from crunch-cli)\n",
            "  Downloading gitignorefile-1.1.2.tar.gz (12 kB)\n",
            "  Installing build dependencies ... \u001b[?25l\u001b[?25hdone\n",
            "  Getting requirements to build wheel ... \u001b[?25l\u001b[?25hdone\n",
            "  Preparing metadata (pyproject.toml) ... \u001b[?25l\u001b[?25hdone\n",
            "Collecting coloredlogs (from crunch-cli)\n",
            "  Downloading coloredlogs-15.0.1-py2.py3-none-any.whl (46 kB)\n",
            "\u001b[2K     \u001b[90m━━━━━━━━━━━━━━━━━━━━━━━━━━━━━━━━━━━━━━━━\u001b[0m \u001b[32m46.0/46.0 kB\u001b[0m \u001b[31m2.6 MB/s\u001b[0m eta \u001b[36m0:00:00\u001b[0m\n",
            "\u001b[?25hRequirement already satisfied: tqdm in /usr/local/lib/python3.10/dist-packages (from crunch-cli) (4.65.0)\n",
            "Collecting astor (from crunch-cli)\n",
            "  Downloading astor-0.8.1-py2.py3-none-any.whl (27 kB)\n",
            "Requirement already satisfied: joblib in /usr/local/lib/python3.10/dist-packages (from crunch-cli) (1.2.0)\n",
            "Requirement already satisfied: pyarrow in /usr/local/lib/python3.10/dist-packages (from crunch-cli) (9.0.0)\n",
            "Requirement already satisfied: pandas in /usr/local/lib/python3.10/dist-packages (from crunch-cli) (1.5.3)\n",
            "Requirement already satisfied: psutil in /usr/local/lib/python3.10/dist-packages (from crunch-cli) (5.9.5)\n",
            "Collecting humanfriendly>=9.1 (from coloredlogs->crunch-cli)\n",
            "  Downloading humanfriendly-10.0-py2.py3-none-any.whl (86 kB)\n",
            "\u001b[2K     \u001b[90m━━━━━━━━━━━━━━━━━━━━━━━━━━━━━━━━━━━━━━━━\u001b[0m \u001b[32m86.8/86.8 kB\u001b[0m \u001b[31m9.1 MB/s\u001b[0m eta \u001b[36m0:00:00\u001b[0m\n",
            "\u001b[?25hRequirement already satisfied: python-dateutil>=2.8.1 in /usr/local/lib/python3.10/dist-packages (from pandas->crunch-cli) (2.8.2)\n",
            "Requirement already satisfied: pytz>=2020.1 in /usr/local/lib/python3.10/dist-packages (from pandas->crunch-cli) (2022.7.1)\n",
            "Requirement already satisfied: numpy>=1.21.0 in /usr/local/lib/python3.10/dist-packages (from pandas->crunch-cli) (1.22.4)\n",
            "Requirement already satisfied: urllib3<1.27,>=1.21.1 in /usr/local/lib/python3.10/dist-packages (from requests->crunch-cli) (1.26.15)\n",
            "Requirement already satisfied: certifi>=2017.4.17 in /usr/local/lib/python3.10/dist-packages (from requests->crunch-cli) (2022.12.7)\n",
            "Requirement already satisfied: charset-normalizer~=2.0.0 in /usr/local/lib/python3.10/dist-packages (from requests->crunch-cli) (2.0.12)\n",
            "Requirement already satisfied: idna<4,>=2.5 in /usr/local/lib/python3.10/dist-packages (from requests->crunch-cli) (3.4)\n",
            "Requirement already satisfied: six>=1.5 in /usr/local/lib/python3.10/dist-packages (from python-dateutil>=2.8.1->pandas->crunch-cli) (1.16.0)\n",
            "Building wheels for collected packages: gitignorefile\n",
            "  Building wheel for gitignorefile (pyproject.toml) ... \u001b[?25l\u001b[?25hdone\n",
            "  Created wheel for gitignorefile: filename=gitignorefile-1.1.2-py3-none-any.whl size=6672 sha256=26ed40b1169c1e340c91f261bd9c6b9e47791ea51a9ac8e16e35b475b5da3019\n",
            "  Stored in directory: /root/.cache/pip/wheels/6d/dc/c7/5875272151d55a37a44c163d1bddb1cdfff35278b82dcf4ba7\n",
            "Successfully built gitignorefile\n",
            "Installing collected packages: gitignorefile, humanfriendly, astor, coloredlogs, crunch-cli\n",
            "Successfully installed astor-0.8.1 coloredlogs-15.0.1 crunch-cli-1.2.0 gitignorefile-1.1.2 humanfriendly-10.0\n"
          ]
        }
      ],
      "source": [
        "!pip3 install crunch-cli --upgrade"
      ]
    },
    {
      "attachments": {},
      "cell_type": "markdown",
      "metadata": {
        "id": "kaVIsoyowBsl"
      },
      "source": [
        "#### STEP 2\n",
        "Import the crunch package and instantiate it to be able to access its functionality."
      ]
    },
    {
      "cell_type": "code",
      "execution_count": 3,
      "metadata": {
        "colab": {
          "base_uri": "https://localhost:8080/"
        },
        "id": "tHV_tK7EwBsm",
        "outputId": "e4eb51be-18cc-4277-8ba4-27f7f5aa9794"
      },
      "outputs": [
        {
          "name": "stdout",
          "output_type": "stream",
          "text": [
            "loaded inline runner with module: <module '__main__'>\n"
          ]
        }
      ],
      "source": [
        "import crunch\n",
        "crunch = crunch.load_notebook(__name__)"
      ]
    },
    {
      "attachments": {},
      "cell_type": "markdown",
      "metadata": {
        "id": "GhDWzOWDBOKw"
      },
      "source": [
        "#### STEP 3"
      ]
    },
    {
      "cell_type": "code",
      "execution_count": 4,
      "metadata": {
        "colab": {
          "base_uri": "https://localhost:8080/"
        },
        "id": "4C7QjMkqBOKw",
        "outputId": "05da2d5d-a94c-4c77-89e2-71de6fd6a7ec"
      },
      "outputs": [
        {
          "name": "stdout",
          "output_type": "stream",
          "text": [
            "extract happy-mike/main.py\n",
            "extract happy-mike/notebook.ipynb\n",
            "extract happy-mike/requirements.txt\n",
            "download data/X_train.parquet from https://datacrunch-com.s3.eu-west-1.amazonaws.com/staging/adia-tournament/data-releases/1/X_train.parquet\n",
            "download data/y_train.parquet from https://datacrunch-com.s3.eu-west-1.amazonaws.com/staging/adia-tournament/data-releases/1/y_train.parquet\n",
            "download data/X_test.parquet from https://datacrunch-com.s3.eu-west-1.amazonaws.com/staging/adia-tournament/data-releases/1/X_test_reduced.parquet\n",
            "                                         \n",
            "---\n",
            "Success! Your environment has been correctly setup.\n",
            "Next recommended actions:\n",
            " - To get inside your workspace directory, run: cd happy-mike\n",
            " - To see all of the available commands of the CrunchDAO CLI, run: crunch --help\n",
            "/content/happy-mike\n"
          ]
        }
      ],
      "source": [
        "# go to your submit page and copy paste your setup command to access the data\n",
        "# https://adialab.crunchdao.com/submit\n",
        "!crunch --notebook setup happy-mike --token 7BWS4CJWQUvflZZf3zV7NBvYNl4U3YSdrohLTCcYPRkF3S9JGH3YG5LXmBSZCPeX\n",
        "%cd happy-mike"
      ]
    },
    {
      "attachments": {},
      "cell_type": "markdown",
      "metadata": {
        "id": "fJqTMeLqwBsm"
      },
      "source": [
        "# ADIA Lab Market Prediction"
      ]
    },
    {
      "attachments": {},
      "cell_type": "markdown",
      "metadata": {
        "id": "VlAzMPaIwBsm"
      },
      "source": [
        "## A code competition\n",
        "\n",
        "This competition is divided in two phases.\n",
        "\n",
        "Submission phase - 12 weeks\n",
        "\n",
        "Out-of-Sample phase - 12 weeks\n",
        "\n",
        "During the first phase, participants will submit Python notebooks or Python scripts which build their best possible model on the data proposed by the organizers. In the second phase, also called [Out-of-Sample](https://en.wikipedia.org/wiki/Cross-validation_(statistics)) (OOS) phase, the participant's code will be automatically executed by the platform on unseen data. During this phase, the participants won't be able to modify their code.\n",
        "\n",
        "There are two main reasons for this:\n",
        "\n",
        "- Participants won't be able to game or cheat their scores.\n",
        "\n",
        "- [Overfitting](https://deliverypdf.ssrn.com/delivery.php?ID=634087103098022017102089127026118070055022030067038035066070070118003108076075122073107013020035005031116084117030102014013119017036066065011126115081078006004108029033051020066006092025091103065117104075029100098011096065096065079019015002101078070&EXT=pdf&INDEX=TRUE) of the training data will lead to very bad performance OOS.\n",
        "\n",
        "To ensure reproducibility of your work, you will need to follow certain coding guidelines to participate in the competition. These guidelines will also allow our scoring system to run your code in the cloud during the OOS period without any issues.\n",
        "\n",
        "In this competition, CrunchDAO acts as a third party intermediary and will never communicate this code to the organizers.\n",
        "\n",
        "## The Coding Guideline\n",
        "\n",
        "Your submission needs at least to provide three components: imports, `train()`, and `infer()`.\n",
        "\n",
        "1. **imports**: As with any script, if your solution contains dependencies on external packages make sure to import them. The system will automatically install your dependancies. Make sure that you are using only packages that are whitelisted [here](https://adialab.crunchdao.io/submit?tab=libraries).\n",
        "\n",
        "2. **`train()`**: In the training phase the users will build the model and train it such that it can perform inferences on the testing data. The model must be saved in the `resources` directory.\n",
        "\n",
        "4. **`infer()`**: In the inference function the model trained in the previous step will be loaded and used to perform inferences on a data sample matching the characteristic of the training test.\n",
        "\n",
        "## Scoring on the public leaderboard\n",
        "\n",
        "To ensure the reliability of the public leaderboard, you don't have access to all of the testing data on which you will be scored.\n",
        "The `X_test` data downloaded in your workspace is composed of **only** 5 dates to test locally that your code actually runs when submitted. Notice that `y_test` is not available for those 5 dates.\n",
        "Once you have uploaded your solution the system will run your code on a larger test set of approximately 30 dates, and compute the score.\n",
        "\n",
        "When submitting, you are left to decide how frequently to retrain your model, considering the limit of 5 hours of resources / week / user allowed to predict the 30 dates of the private test set.\n",
        "\n",
        "\n",
        "## Scoring on the out-of-sample phase\n",
        "\n",
        "During the out-of-sample phase, after the submission period ends, the system will call your code 3 times every week on live datapoint.\n",
        "\n",
        "The mean spearman score after 12 weeks of OOS will determine the winners of the tournament.\n"
      ]
    },
    {
      "attachments": {},
      "cell_type": "markdown",
      "metadata": {
        "id": "SwxiUFGAwBsq"
      },
      "source": [
        "# Construction of a basic submission"
      ]
    },
    {
      "attachments": {},
      "cell_type": "markdown",
      "metadata": {
        "id": "0o1AvFK_wBso"
      },
      "source": [
        "### Submission process\n",
        "\n",
        "1- Make sure to put all your code in the code interface inside your Notebook. The system will parse these functions to execute it in the cloud. You can work outside of the code interface but to be able to submit you will need to fill in the submission function with the code you want to submit\n",
        "\n",
        "2- Once satisfied with your work. Download this notebook ( file -> Download -> Download.ipynb )\n",
        "\n",
        "3- Then upload this Notebook on https://adialab.crunchdao.com/submit\n",
        "\n"
      ]
    },
    {
      "cell_type": "code",
      "execution_count": 5,
      "metadata": {
        "id": "S5jTqHSpBOKy"
      },
      "outputs": [],
      "source": [
        "\"\"\"\n",
        "This is a basic example of what you need to do to participate to the tournament.\n",
        "The code will not have access to the internet (or any socket related operation).\n",
        "\"\"\"\n",
        "\n",
        "# Imports\n",
        "import xgboost as xgb\n",
        "import pandas as pd\n",
        "import typing\n",
        "import joblib\n",
        "from pathlib import Path\n",
        "\n",
        "\n",
        "def train(X_train: pd.DataFrame, y_train: pd.DataFrame,\n",
        "          model_directory_path: str = \"resources\") -> None:\n",
        "    \"\"\"\n",
        "    Do your model training here.\n",
        "    At each retrain this function will have to save an updated version of\n",
        "    the model under the model_directiory_path, as in the example below.\n",
        "    Note: You can use other serialization methods than joblib.dump(), as\n",
        "    long as it matches what reads the model in infer().\n",
        "    \n",
        "    Args:\n",
        "        X_train, y_train: the data to train the model.\n",
        "        model_directory_path: the path to save your updated model\n",
        "    \n",
        "    Returns:\n",
        "        None\n",
        "    \"\"\"\n",
        "\n",
        "    # basic xgboost regressor\n",
        "    model = xgb.XGBRegressor(\n",
        "        objective='reg:squarederror',\n",
        "        max_depth=4,\n",
        "        learning_rate=0.1,\n",
        "        n_estimators=2,\n",
        "        n_jobs=-1,\n",
        "        colsample_bytree=0.05\n",
        "    )\n",
        "\n",
        "    # training the model\n",
        "    print(\"training...\")\n",
        "    model.fit(X_train.iloc[:,2:], y_train.iloc[:,2:])\n",
        "\n",
        "    # make sure that the train function correctly save the trained model\n",
        "    # in the model_directory_path\n",
        "    model_pathname = Path(model_directory_path) / \"model.joblib\"\n",
        "    print(f\"Saving model in {model_pathname}\")\n",
        "    joblib.dump(model, model_pathname)\n",
        "\n",
        "\n",
        "def infer(X_test: pd.DataFrame,\n",
        "          model_directory_path: str = \"resources\") -> pd.DataFrame:\n",
        "    \"\"\"\n",
        "    Do your inference here.\n",
        "    This function will load the model saved at the previous iteration and use\n",
        "    it to produce your inference on the current date.\n",
        "    It is mandatory to send your inferences with the ids so the system\n",
        "    can match it correctly.\n",
        "    \n",
        "    Args:\n",
        "        model_directory_path: the path to the directory to the directory in wich we will be saving your updated model.\n",
        "        X_test: the independant  variables of the current date passed to your model.\n",
        "\n",
        "    Returns:\n",
        "        A dataframe (date, id, value) with the inferences of your model for the current date.\n",
        "    \"\"\"\n",
        "\n",
        "    # loading the model saved by the train function at previous iteration\n",
        "    model = joblib.load(Path(model_directory_path) / \"model.joblib\")\n",
        "    \n",
        "    # creating the predicted label dataframe with correct dates and ids\n",
        "    y_test_predicted = X_test[[\"date\", \"id\"]].copy()\n",
        "    y_test_predicted[\"value\"] = model.predict(X_test.iloc[:, 2:])\n",
        "\n",
        "    return y_test_predicted"
      ]
    },
    {
      "attachments": {},
      "cell_type": "markdown",
      "metadata": {
        "id": "LyStcF3dRY5O"
      },
      "source": [
        "\n",
        "\n",
        "---\n",
        "\n",
        "\n",
        "\n",
        "---\n",
        "\n"
      ]
    },
    {
      "attachments": {},
      "cell_type": "markdown",
      "metadata": {
        "id": "P7e3xWnpJrzb"
      },
      "source": [
        "# Testing your model locally\n",
        "\n",
        "This last part of the notebook is not necessary for the submission but only for you, to analyze your model."
      ]
    },
    {
      "cell_type": "code",
      "execution_count": 6,
      "metadata": {
        "id": "mQSnWoL6KWD2"
      },
      "outputs": [],
      "source": [
        "from sklearn.model_selection import train_test_split\n",
        "from scipy.stats import spearmanr"
      ]
    },
    {
      "cell_type": "code",
      "execution_count": 7,
      "metadata": {
        "colab": {
          "base_uri": "https://localhost:8080/"
        },
        "id": "4INH-g0KBOKy",
        "outputId": "28cae60a-1a65-4c28-b85c-1aace653421c"
      },
      "outputs": [
        {
          "name": "stdout",
          "output_type": "stream",
          "text": [
            "download data/X_train.parquet from https://datacrunch-com.s3.eu-west-1.amazonaws.com/staging/adia-tournament/data-releases/1/X_train.parquet\n",
            "already exists: file length match\n",
            "download data/y_train.parquet from https://datacrunch-com.s3.eu-west-1.amazonaws.com/staging/adia-tournament/data-releases/1/y_train.parquet\n",
            "already exists: file length match\n",
            "download data/X_test.parquet from https://datacrunch-com.s3.eu-west-1.amazonaws.com/staging/adia-tournament/data-releases/1/X_test_reduced.parquet\n",
            "already exists: file length match\n"
          ]
        }
      ],
      "source": [
        "# Getting the data\n",
        "X_train, y_train, X_test = crunch.load_data()"
      ]
    },
    {
      "attachments": {},
      "cell_type": "markdown",
      "metadata": {
        "id": "0drhNihqL4lV"
      },
      "source": [
        "To have a preliminary assessment of our solution above we need to create train and test data:"
      ]
    },
    {
      "cell_type": "code",
      "execution_count": 8,
      "metadata": {
        "colab": {
          "base_uri": "https://localhost:8080/"
        },
        "id": "D1SlGcI0IKw-",
        "outputId": "07a8a23e-8069-430a-b372-1ffb9cfeb42d"
      },
      "outputs": [
        {
          "name": "stdout",
          "output_type": "stream",
          "text": [
            "Splitting (X_train, y_train) in X_train_local, X_test_local, y_train_local, y_test_local\n",
            "training...\n",
            "Saving model in resources/model.joblib\n"
          ]
        }
      ],
      "source": [
        "print(\"Splitting (X_train, y_train) in X_train_local, X_test_local, y_train_local, y_test_local\")\n",
        "X_train_local, X_test_local, y_train_local, y_test_local = train_test_split(\n",
        "    X_train,\n",
        "    y_train,\n",
        "    test_size=0.2,\n",
        "    shuffle=False\n",
        ")\n",
        "\n",
        "# Training. It may require a few minutes.\n",
        "train(X_train_local, y_train_local)"
      ]
    },
    {
      "cell_type": "code",
      "execution_count": 9,
      "metadata": {
        "colab": {
          "base_uri": "https://localhost:8080/"
        },
        "id": "g9KlcFddJ1nh",
        "outputId": "61b31c41-bcc7-48e1-b39d-f9650cc8628f"
      },
      "outputs": [
        {
          "name": "stdout",
          "output_type": "stream",
          "text": [
            "Inference\n",
            "Spearman's correlation 0.0626446298373161\n"
          ]
        }
      ],
      "source": [
        "print(\"Inference\")\n",
        "y_test_local_pred = infer(X_test_local, model_directory_path=\"resources\")\n",
        "score = spearmanr(y_test_local[\"y\"], y_test_local_pred[\"value\"])[0] * 100\n",
        "print(f\"Spearman's correlation {score}\")"
      ]
    },
    {
      "attachments": {},
      "cell_type": "markdown",
      "metadata": {
        "id": "6XA4DXZtBOKz"
      },
      "source": [
        "# Testing your submission **locally**\n",
        "\n",
        "This function of the crunch package will run your code locally, in the same way in which the function is called in the cloud (ie: one date at a time). If it runs without problem, it is highly likely that there won't be problems when executing it on the CrunchDAO's system, on the cloud.\n",
        "\n",
        "You can setup the a retraining frequency as you which. A train frequency of 2 means that the system will retrain your model every two dates.\n",
        "\n",
        "`force_first_train=True` means that your model will be trained on the first date of the test set."
      ]
    },
    {
      "cell_type": "code",
      "execution_count": 10,
      "metadata": {
        "id": "x-6qSxTNXJ5p"
      },
      "outputs": [],
      "source": [
        "print(\"Remove unused data to release memory\")\n",
        "del X_train, y_train, X_test, X_train_local, X_test_local, y_train_local, y_test_local"
      ]
    },
    {
      "cell_type": "code",
      "execution_count": 11,
      "metadata": {
        "colab": {
          "base_uri": "https://localhost:8080/",
          "height": 1000
        },
        "id": "jio87DOxBOKz",
        "outputId": "d6c54785-a843-47d1-a8ae-9ce36fe66c09"
      },
      "outputs": [
        {
          "name": "stderr",
          "output_type": "stream",
          "text": [
            "09:50:49 running local test\n",
            "09:50:49 internet access isn't restricted, no check will be done\n",
            "09:50:49 \n"
          ]
        },
        {
          "name": "stdout",
          "output_type": "stream",
          "text": [
            "download data/X_train.parquet from https://datacrunch-com.s3.eu-west-1.amazonaws.com/staging/adia-tournament/data-releases/1/X_train.parquet\n",
            "already exists: file length match\n",
            "download data/y_train.parquet from https://datacrunch-com.s3.eu-west-1.amazonaws.com/staging/adia-tournament/data-releases/1/y_train.parquet\n",
            "already exists: file length match\n",
            "download data/X_test.parquet from https://datacrunch-com.s3.eu-west-1.amazonaws.com/staging/adia-tournament/data-releases/1/X_test_reduced.parquet\n",
            "already exists: file length match\n"
          ]
        },
        {
          "name": "stderr",
          "output_type": "stream",
          "text": [
            "09:51:05 ---\n",
            "09:51:06 loop: moon=269 train=True (1/5)\n",
            "09:51:06 handler: train(data/X_train.parquet, data/y_train.parquet, resources)\n"
          ]
        },
        {
          "name": "stdout",
          "output_type": "stream",
          "text": [
            "training...\n"
          ]
        },
        {
          "name": "stderr",
          "output_type": "stream",
          "text": [
            "09:51:10 handler: infer(data/X_test.parquet, resources)\n",
            "09:51:10 ---\n",
            "09:51:10 loop: moon=270 train=True (2/5)\n",
            "09:51:10 handler: train(data/X_train.parquet, data/y_train.parquet, resources)\n"
          ]
        },
        {
          "name": "stdout",
          "output_type": "stream",
          "text": [
            "Saving model in resources/model.joblib\n",
            "training...\n"
          ]
        },
        {
          "name": "stderr",
          "output_type": "stream",
          "text": [
            "09:51:16 handler: infer(data/X_test.parquet, resources)\n",
            "09:51:16 ---\n",
            "09:51:16 loop: moon=271 train=False (3/5)\n",
            "09:51:16 handler: infer(data/X_test.parquet, resources)\n",
            "09:51:16 ---\n",
            "09:51:16 loop: moon=272 train=True (4/5)\n",
            "09:51:16 handler: train(data/X_train.parquet, data/y_train.parquet, resources)\n"
          ]
        },
        {
          "name": "stdout",
          "output_type": "stream",
          "text": [
            "Saving model in resources/model.joblib\n",
            "training...\n"
          ]
        },
        {
          "name": "stderr",
          "output_type": "stream",
          "text": [
            "09:51:19 handler: infer(data/X_test.parquet, resources)\n",
            "09:51:19 ---\n",
            "09:51:19 loop: moon=273 train=False (5/5)\n",
            "09:51:19 handler: infer(data/X_test.parquet, resources)\n",
            "09:51:19 prediction_path=data/prediction.csv\n",
            "09:51:19 duration: time=00:00:30\n",
            "09:51:19 memory: before=\"450.83 MB\" after=\"3.40 GB\" consumed=\"2.96 GB\"\n",
            "09:51:19 local test succesfully run!\n"
          ]
        },
        {
          "name": "stdout",
          "output_type": "stream",
          "text": [
            "Saving model in resources/model.joblib\n"
          ]
        },
        {
          "data": {
            "text/html": [
              "\n",
              "  <div id=\"df-36730286-4cd1-472d-9919-389c5bdd2b3d\">\n",
              "    <div class=\"colab-df-container\">\n",
              "      <div>\n",
              "<style scoped>\n",
              "    .dataframe tbody tr th:only-of-type {\n",
              "        vertical-align: middle;\n",
              "    }\n",
              "\n",
              "    .dataframe tbody tr th {\n",
              "        vertical-align: top;\n",
              "    }\n",
              "\n",
              "    .dataframe thead th {\n",
              "        text-align: right;\n",
              "    }\n",
              "</style>\n",
              "<table border=\"1\" class=\"dataframe\">\n",
              "  <thead>\n",
              "    <tr style=\"text-align: right;\">\n",
              "      <th></th>\n",
              "      <th>date</th>\n",
              "      <th>id</th>\n",
              "      <th>value</th>\n",
              "    </tr>\n",
              "  </thead>\n",
              "  <tbody>\n",
              "    <tr>\n",
              "      <th>0</th>\n",
              "      <td>269</td>\n",
              "      <td>c6e83eda40042dab1af117e195d542f00a417627e3173a...</td>\n",
              "      <td>0.404744</td>\n",
              "    </tr>\n",
              "    <tr>\n",
              "      <th>1</th>\n",
              "      <td>269</td>\n",
              "      <td>97ae3194605438cbd2c59a3827f7c615dafa40d6cc3f42...</td>\n",
              "      <td>0.404744</td>\n",
              "    </tr>\n",
              "    <tr>\n",
              "      <th>2</th>\n",
              "      <td>269</td>\n",
              "      <td>310382927ec56f64c6f2f834fd320c9f732e26df639e67...</td>\n",
              "      <td>0.404744</td>\n",
              "    </tr>\n",
              "    <tr>\n",
              "      <th>3</th>\n",
              "      <td>269</td>\n",
              "      <td>6e963f295f4ec1dc921be47638dba304f486ab2efd313c...</td>\n",
              "      <td>0.404744</td>\n",
              "    </tr>\n",
              "    <tr>\n",
              "      <th>4</th>\n",
              "      <td>269</td>\n",
              "      <td>46cb6aa83fbd64a64a8a87d782476438abb658ce89b89c...</td>\n",
              "      <td>0.405410</td>\n",
              "    </tr>\n",
              "    <tr>\n",
              "      <th>...</th>\n",
              "      <td>...</td>\n",
              "      <td>...</td>\n",
              "      <td>...</td>\n",
              "    </tr>\n",
              "    <tr>\n",
              "      <th>4127</th>\n",
              "      <td>273</td>\n",
              "      <td>26e5d74e138cf23f5d65aab46fdc59f6421e97ccf1ab8e...</td>\n",
              "      <td>0.404785</td>\n",
              "    </tr>\n",
              "    <tr>\n",
              "      <th>4128</th>\n",
              "      <td>273</td>\n",
              "      <td>9dd2e69f186ef4eb076c646a8b182e936af2667793d143...</td>\n",
              "      <td>0.405295</td>\n",
              "    </tr>\n",
              "    <tr>\n",
              "      <th>4129</th>\n",
              "      <td>273</td>\n",
              "      <td>002647639e3b83fd884eed0eddf72a702f15c5d70fb75d...</td>\n",
              "      <td>0.404785</td>\n",
              "    </tr>\n",
              "    <tr>\n",
              "      <th>4130</th>\n",
              "      <td>273</td>\n",
              "      <td>7d840103d2370a80cc9b8376bfaf04b2aa5ff46bcbab03...</td>\n",
              "      <td>0.404785</td>\n",
              "    </tr>\n",
              "    <tr>\n",
              "      <th>4131</th>\n",
              "      <td>273</td>\n",
              "      <td>8cb714eb33a36b24b868155daac9efc9f9ff5c5e01bee1...</td>\n",
              "      <td>0.404785</td>\n",
              "    </tr>\n",
              "  </tbody>\n",
              "</table>\n",
              "<p>20510 rows × 3 columns</p>\n",
              "</div>\n",
              "      <button class=\"colab-df-convert\" onclick=\"convertToInteractive('df-36730286-4cd1-472d-9919-389c5bdd2b3d')\"\n",
              "              title=\"Convert this dataframe to an interactive table.\"\n",
              "              style=\"display:none;\">\n",
              "        \n",
              "  <svg xmlns=\"http://www.w3.org/2000/svg\" height=\"24px\"viewBox=\"0 0 24 24\"\n",
              "       width=\"24px\">\n",
              "    <path d=\"M0 0h24v24H0V0z\" fill=\"none\"/>\n",
              "    <path d=\"M18.56 5.44l.94 2.06.94-2.06 2.06-.94-2.06-.94-.94-2.06-.94 2.06-2.06.94zm-11 1L8.5 8.5l.94-2.06 2.06-.94-2.06-.94L8.5 2.5l-.94 2.06-2.06.94zm10 10l.94 2.06.94-2.06 2.06-.94-2.06-.94-.94-2.06-.94 2.06-2.06.94z\"/><path d=\"M17.41 7.96l-1.37-1.37c-.4-.4-.92-.59-1.43-.59-.52 0-1.04.2-1.43.59L10.3 9.45l-7.72 7.72c-.78.78-.78 2.05 0 2.83L4 21.41c.39.39.9.59 1.41.59.51 0 1.02-.2 1.41-.59l7.78-7.78 2.81-2.81c.8-.78.8-2.07 0-2.86zM5.41 20L4 18.59l7.72-7.72 1.47 1.35L5.41 20z\"/>\n",
              "  </svg>\n",
              "      </button>\n",
              "      \n",
              "  <style>\n",
              "    .colab-df-container {\n",
              "      display:flex;\n",
              "      flex-wrap:wrap;\n",
              "      gap: 12px;\n",
              "    }\n",
              "\n",
              "    .colab-df-convert {\n",
              "      background-color: #E8F0FE;\n",
              "      border: none;\n",
              "      border-radius: 50%;\n",
              "      cursor: pointer;\n",
              "      display: none;\n",
              "      fill: #1967D2;\n",
              "      height: 32px;\n",
              "      padding: 0 0 0 0;\n",
              "      width: 32px;\n",
              "    }\n",
              "\n",
              "    .colab-df-convert:hover {\n",
              "      background-color: #E2EBFA;\n",
              "      box-shadow: 0px 1px 2px rgba(60, 64, 67, 0.3), 0px 1px 3px 1px rgba(60, 64, 67, 0.15);\n",
              "      fill: #174EA6;\n",
              "    }\n",
              "\n",
              "    [theme=dark] .colab-df-convert {\n",
              "      background-color: #3B4455;\n",
              "      fill: #D2E3FC;\n",
              "    }\n",
              "\n",
              "    [theme=dark] .colab-df-convert:hover {\n",
              "      background-color: #434B5C;\n",
              "      box-shadow: 0px 1px 3px 1px rgba(0, 0, 0, 0.15);\n",
              "      filter: drop-shadow(0px 1px 2px rgba(0, 0, 0, 0.3));\n",
              "      fill: #FFFFFF;\n",
              "    }\n",
              "  </style>\n",
              "\n",
              "      <script>\n",
              "        const buttonEl =\n",
              "          document.querySelector('#df-36730286-4cd1-472d-9919-389c5bdd2b3d button.colab-df-convert');\n",
              "        buttonEl.style.display =\n",
              "          google.colab.kernel.accessAllowed ? 'block' : 'none';\n",
              "\n",
              "        async function convertToInteractive(key) {\n",
              "          const element = document.querySelector('#df-36730286-4cd1-472d-9919-389c5bdd2b3d');\n",
              "          const dataTable =\n",
              "            await google.colab.kernel.invokeFunction('convertToInteractive',\n",
              "                                                     [key], {});\n",
              "          if (!dataTable) return;\n",
              "\n",
              "          const docLinkHtml = 'Like what you see? Visit the ' +\n",
              "            '<a target=\"_blank\" href=https://colab.research.google.com/notebooks/data_table.ipynb>data table notebook</a>'\n",
              "            + ' to learn more about interactive tables.';\n",
              "          element.innerHTML = '';\n",
              "          dataTable['output_type'] = 'display_data';\n",
              "          await google.colab.output.renderOutput(dataTable, element);\n",
              "          const docLink = document.createElement('div');\n",
              "          docLink.innerHTML = docLinkHtml;\n",
              "          element.appendChild(docLink);\n",
              "        }\n",
              "      </script>\n",
              "    </div>\n",
              "  </div>\n",
              "  "
            ],
            "text/plain": [
              "      date                                                 id     value\n",
              "0      269  c6e83eda40042dab1af117e195d542f00a417627e3173a...  0.404744\n",
              "1      269  97ae3194605438cbd2c59a3827f7c615dafa40d6cc3f42...  0.404744\n",
              "2      269  310382927ec56f64c6f2f834fd320c9f732e26df639e67...  0.404744\n",
              "3      269  6e963f295f4ec1dc921be47638dba304f486ab2efd313c...  0.404744\n",
              "4      269  46cb6aa83fbd64a64a8a87d782476438abb658ce89b89c...  0.405410\n",
              "...    ...                                                ...       ...\n",
              "4127   273  26e5d74e138cf23f5d65aab46fdc59f6421e97ccf1ab8e...  0.404785\n",
              "4128   273  9dd2e69f186ef4eb076c646a8b182e936af2667793d143...  0.405295\n",
              "4129   273  002647639e3b83fd884eed0eddf72a702f15c5d70fb75d...  0.404785\n",
              "4130   273  7d840103d2370a80cc9b8376bfaf04b2aa5ff46bcbab03...  0.404785\n",
              "4131   273  8cb714eb33a36b24b868155daac9efc9f9ff5c5e01bee1...  0.404785\n",
              "\n",
              "[20510 rows x 3 columns]"
            ]
          },
          "execution_count": 11,
          "metadata": {},
          "output_type": "execute_result"
        }
      ],
      "source": [
        "crunch.test(force_first_train=True, train_frequency=2)"
      ]
    },
    {
      "attachments": {},
      "cell_type": "markdown",
      "metadata": {
        "id": "JcxaEabsZrXm"
      },
      "source": [
        "# Now remember to download and then submit this notebook to https://adialab.crunchdao.com/submit"
      ]
    }
  ],
  "metadata": {
    "colab": {
      "collapsed_sections": [
        "QIGffwE2wBsi",
        "fJqTMeLqwBsm",
        "nXacC2GmwBso",
        "SwxiUFGAwBsq"
      ],
      "provenance": []
    },
    "kernelspec": {
      "display_name": "Python 3 (ipykernel)",
      "language": "python",
      "name": "python3"
    },
    "language_info": {
      "codemirror_mode": {
        "name": "ipython",
        "version": 3
      },
      "file_extension": ".py",
      "mimetype": "text/x-python",
      "name": "python",
      "nbconvert_exporter": "python",
      "pygments_lexer": "ipython3",
      "version": "3.9.6"
    }
  },
  "nbformat": 4,
  "nbformat_minor": 0
}
