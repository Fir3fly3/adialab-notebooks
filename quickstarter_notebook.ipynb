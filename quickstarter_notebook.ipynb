{
  "cells": [
    {
      "attachments": {},
      "cell_type": "markdown",
      "metadata": {},
      "source": [
        "[![Open In Colab](https://colab.research.google.com/assets/colab-badge.svg)](https://githubtocolab.com/crunchdao/adialab-notebooks/blob/main/quickstarter_notebook.ipynb)"
      ]
    },
    {
      "cell_type": "markdown",
      "metadata": {
        "id": "aWkyd7l6wBse"
      },
      "source": [
        "# ![title](https://cdn.discordapp.com/attachments/692035498625204245/1090596888857813062/banner.png)"
      ]
    },
    {
      "cell_type": "markdown",
      "metadata": {
        "id": "QIGffwE2wBsi"
      },
      "source": [
        "# Setup your crunch workspace"
      ]
    },
    {
      "attachments": {},
      "cell_type": "markdown",
      "metadata": {
        "id": "wPwpdl83wBsi"
      },
      "source": [
        "#### STEP 1\n",
        "Run this cell to install the crunch library in your workspace."
      ]
    },
    {
      "cell_type": "code",
      "execution_count": null,
      "metadata": {
        "id": "fctOAv3CwBsi"
      },
      "outputs": [],
      "source": [
        "!pip3 install crunch-cli --upgrade"
      ]
    },
    {
      "cell_type": "markdown",
      "metadata": {
        "id": "5C4Yj1MDwBsk"
      },
      "source": [
        "#### STEP 2 \n",
        "(Temporary - will be removed once the pip package is public)"
      ]
    },
    {
      "cell_type": "code",
      "execution_count": null,
      "metadata": {
        "id": "OcRMNHr_wBsk"
      },
      "outputs": [],
      "source": [
        "# temporary command that will be remove once public communication done\n",
        "%env API_BASE_URL=http://api.adialab.staging.crunchdao.com\n",
        "%env WEB_BASE_URL=https://adialab.staging.crunchdao.com/"
      ]
    },
    {
      "cell_type": "markdown",
      "metadata": {
        "id": "kaVIsoyowBsl"
      },
      "source": [
        "#### STEP 3\n",
        "Importing the crunch package and instantiate it to be able to access its functionality."
      ]
    },
    {
      "cell_type": "code",
      "execution_count": null,
      "metadata": {
        "id": "tHV_tK7EwBsm"
      },
      "outputs": [],
      "source": [
        "import crunch\n",
        "import sys\n",
        "crunch = crunch.load_notebook(sys.modules[__name__])"
      ]
    },
    {
      "cell_type": "markdown",
      "metadata": {
        "id": "fJqTMeLqwBsm"
      },
      "source": [
        "# The Adialab x CrunchDAO competition"
      ]
    },
    {
      "cell_type": "markdown",
      "metadata": {
        "id": "VlAzMPaIwBsm"
      },
      "source": [
        "## A code competition\n",
        "\n",
        "This competition is divided in two phases.\n",
        "\n",
        "Submission phase - 12 weeks\n",
        "\n",
        "Out-of-Sample phase - 12 weeks\n",
        "\n",
        "During the first phase the participants will submit notebook or python scripts that build the best possible model on the data proposed by the organizers. In the second phase also called [Out-of-Sample](https://en.wikipedia.org/wiki/Cross-validation_(statistics)) (OOS) phase the participant's code will be automatically run by the platform on live market data to be evaluated on unseen data. \n",
        "\n",
        "- There is two main interests in proceeding that way:\n",
        "\n",
        "- The participants won't be able to game or cheat in any ways which is very often the case in traditional data-science competitions.\n",
        "\n",
        "- The [overfitting](https://deliverypdf.ssrn.com/delivery.php?ID=634087103098022017102089127026118070055022030067038035066070070118003108076075122073107013020035005031116084117030102014013119017036066065011126115081078006004108029033051020066006092025091103065117104075029100098011096065096065079019015002101078070&EXT=pdf&INDEX=TRUE) of the training data will lead to a very bad performance OOS.\n",
        "\n",
        "To ensure reproducibility of your work, you will need to follow certain guidelines to participate in the competition. These guidelines will also allow our scoring system to run your code in the cloud during the OOS period without any issues.\n",
        "\n",
        "CrunchDAO is acting as a third party intermediary in this competition and will off-course never communicate the code to the organizers in any ways.\n",
        "\n",
        "## The user interface\n",
        "\n",
        "User Interfaces are recurring solutions that solve common problems. In the world of data-science and modeling, the typical interface is covered by the following functions:\n",
        "\n",
        "1. **import**: As any script, if your solution contains dependancies on external packages make sure to import. The system will automatically your dependancies. Make sure that you are using only packages that are whitelisted in overview >> Libraries page.\n",
        "\n",
        "2. **data processing**: In the data processing step users will proceed with the transformation of the data that they deem necessary before training a model. This step includes feature selection, data transformations, creation of new synthetic features etc... This step must return the x_train, y_train and x_test data sample.\n",
        "\n",
        "3. **train**: In the training phase the users will build the model and train it such that it can perform inferences on the testing data. This function should return a trained model ready to perform inferences on the testing data.\n",
        "\n",
        "4. **infer**: In the inference function the model train in the previous step will be used to perform inferences on a data sample matching the characteristic of the training test."
      ]
    },
    {
      "cell_type": "code",
      "execution_count": null,
      "metadata": {
        "id": "OthNuXrOwBsn"
      },
      "outputs": [],
      "source": [
        "# !! Make sure to run this cell to be abble to run the rest of the notebook.\n",
        "\n",
        "# imports\n",
        "import xgboost as xgb\n",
        "import sklearn\n",
        "from sklearn.feature_selection import VarianceThreshold\n",
        "from sklearn.model_selection import train_test_split\n",
        "from scipy import stats\n",
        "import matplotlib.pyplot as plt\n",
        "import pandas as pd\n",
        "\n",
        "# The 3 stages of the crunchdao user interface\n",
        "\n",
        "# STAGE 1 - Data-Processing\n",
        "def data_process( x_train, y_train, x_test):\n",
        "    \"\"\"\n",
        "    Do your data processing here.\n",
        "    \"\"\"\n",
        "\n",
        "    return x_train, y_train, x_test\n",
        "\n",
        "# STAGE 2: Training\n",
        "def train(x_train, y_train):\n",
        "    \"\"\"\n",
        "    Do your model training here..\n",
        "    \"\"\"\n",
        "    \n",
        "    # spliting training test\n",
        "    x_train, x_test, y_train, y_test = train_test_split(x_train, y_train, test_size=0.2, shuffle=False)\n",
        "\n",
        "    # choosing a model\n",
        "    model = xgb.XGBRegressor(objective='reg:squarederror', max_depth=5, learning_rate=0.01, n_estimators=2000, n_jobs=-1, colsample_bytree=0.5)\n",
        "\n",
        "    # training \n",
        "    model.fit(x_train, y_train)\n",
        "\n",
        "    return model\n",
        "\n",
        "# STAGE 3: Inferencing\n",
        "def infer(model, x_test):\n",
        "    \"\"\"\n",
        "    load model and infer here.\n",
        "    \"\"\"\n",
        "    \n",
        "    pred = model.predict(x_test)\n",
        "\n",
        "    return pred"
      ]
    },
    {
      "cell_type": "markdown",
      "metadata": {
        "id": "SwxiUFGAwBsq"
      },
      "source": [
        "# Construction of a basic submission"
      ]
    },
    {
      "cell_type": "markdown",
      "metadata": {
        "id": "0o1AvFK_wBso"
      },
      "source": [
        "### Submission process\n",
        "\n",
        "1- Make sure to put all your code in the code interface inside your Notebook. The system will parse these functions to execute it in the cloud. You can work outside of the code interface but to be able to submit you will need to fill-in the submission function with the code you want to submit\n",
        "\n",
        "2- Once satisfied with your work. Download this notebook ( file -> Download -> Download.ipynb )\n",
        "\n",
        "3- Then upload this Notebook on https://adialab.staging.crunchdao.com/submit#\n",
        "\n"
      ]
    },
    {
      "cell_type": "code",
      "execution_count": null,
      "metadata": {
        "id": "csvk8eZ7wBsq"
      },
      "outputs": [],
      "source": [
        "import xgboost as xgb\n",
        "import sklearn\n",
        "from sklearn.feature_selection import VarianceThreshold\n",
        "from sklearn.model_selection import train_test_split\n",
        "from scipy import stats\n",
        "import pandas as pd\n",
        "\n",
        "def scorer(y_test, y_pred):\n",
        "    score = (stats.spearmanr(y_test, y_pred)*100)[0]\n",
        "    print(f\"In sample spearman correlation {score}\")\n",
        "\n",
        "def data_process(x_train, y_train, x_test):\n",
        "    \"\"\"\n",
        "    Do your data processing here.\n",
        "    \"\"\"\n",
        "    print(\"Starting - data_process\")\n",
        "    \n",
        "    # selecting some features\n",
        "    x_train = x_train.iloc[:,2:15]\n",
        "    x_test = x_test.iloc[:,2:15]\n",
        "    y_train = y_train.iloc[:,2:]\n",
        "\n",
        "    # typing\n",
        "    for col in x_train.columns:\n",
        "        x_train[col] = x_train[col].astype(float)\n",
        "        x_test[col] = x_test[col].astype(float)\n",
        "\n",
        "    return x_train, y_train, x_test\n",
        "\n",
        "def train(x_train, y_train):\n",
        "    \"\"\"\n",
        "    Do your model training here..\n",
        "    \"\"\"\n",
        "    \n",
        "    print(\"Starting - trainning\")\n",
        "    \n",
        "    # spliting training test\n",
        "    X_train, X_test, y_train, y_test = train_test_split(x_train, y_train, test_size=0.2, shuffle=False)\n",
        "    \n",
        "    # choosing a model\n",
        "    model = xgb.XGBRegressor(objective='reg:squarederror', max_depth=4, learning_rate=0.01, n_estimators=2, n_jobs=-1, colsample_bytree=0.5)\n",
        "\n",
        "    # training \n",
        "    model.fit(X_train, y_train)\n",
        "\n",
        "    # testing model's Spearman score\n",
        "    pred = model.predict(X_test)\n",
        "    scorer(y_test, pred)\n",
        "\n",
        "    return model\n",
        "  \n",
        "# def infer(model, x_test):\n",
        "#     \"\"\"\n",
        "#     load model and infer here.\n",
        "#     \"\"\"\n",
        "\n",
        "#     print(\"Starting - infer\")\n",
        "#     return pd.DataFrame(model.predict(x_test))\n",
        "\n",
        "\n",
        "def infer(model, x_test):\n",
        "    \"\"\"\n",
        "    Do you infer here.\n",
        "    \"\"\"\n",
        "\n",
        "    predicted = x_test[[\"date\", \"id\"]].copy()\n",
        "    predicted[\"value\"] = model.predict(x_test.iloc[:, 2:])\n",
        "\n",
        "    return predicted"
      ]
    }
  ],
  "metadata": {
    "colab": {
      "collapsed_sections": [
        "QIGffwE2wBsi",
        "fJqTMeLqwBsm",
        "nXacC2GmwBso",
        "SwxiUFGAwBsq"
      ],
      "provenance": []
    },
    "kernelspec": {
      "display_name": "Python 3 (ipykernel)",
      "language": "python",
      "name": "python3"
    },
    "language_info": {
      "codemirror_mode": {
        "name": "ipython",
        "version": 3
      },
      "file_extension": ".py",
      "mimetype": "text/x-python",
      "name": "python",
      "nbconvert_exporter": "python",
      "pygments_lexer": "ipython3",
      "version": "3.10.6"
    },
    "orig_nbformat": 4
  },
  "nbformat": 4,
  "nbformat_minor": 0
}
